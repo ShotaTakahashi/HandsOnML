{
 "cells": [
  {
   "cell_type": "code",
   "execution_count": 1,
   "metadata": {},
   "outputs": [],
   "source": [
    "import tensorflow as tf"
   ]
  },
  {
   "cell_type": "code",
   "execution_count": 2,
   "metadata": {},
   "outputs": [],
   "source": [
    "n_inputs = 3\n",
    "n_neurons = 5\n",
    "\n",
    "X0 = tf.placeholder(tf.float32, [None, n_inputs])\n",
    "X1 = tf.placeholder(tf.float32, [None, n_inputs])\n",
    "\n",
    "Wx = tf.Variable(tf.random_normal(shape=[n_inputs, n_neurons], dtype=tf.float32))\n",
    "Wy = tf.Variable(tf.random_normal(shape=[n_neurons, n_neurons], dtype=tf.float32))\n",
    "b = tf.Variable(tf.zeros([1, n_neurons], dtype=tf.float32))\n",
    "\n",
    "Y0 = tf.tanh(tf.matmul(X0, Wx) + b)\n",
    "Y1 = tf.tanh(tf.matmul(Y0, Wy) + tf.matmul(X1, Wx) + b)\n",
    "\n",
    "init = tf.global_variables_initializer()"
   ]
  },
  {
   "cell_type": "code",
   "execution_count": 3,
   "metadata": {},
   "outputs": [],
   "source": [
    "import numpy as np\n",
    "\n",
    "X0_batch = np.array([[0, 1, 2], [3, 4, 5], [6, 7, 8], [9, 0, 1]])\n",
    "X1_batch = np.array([[9, 8, 7], [0, 0, 0], [6, 5, 4], [3, 2, 1]])\n",
    "\n",
    "with tf.Session() as sess:\n",
    "    init.run()\n",
    "    Y0_val, Y1_val = sess.run([Y0, Y1], feed_dict={X0: X0_batch, X1: X1_batch})"
   ]
  },
  {
   "cell_type": "code",
   "execution_count": 4,
   "metadata": {},
   "outputs": [
    {
     "name": "stdout",
     "output_type": "stream",
     "text": [
      "[[-0.99987757  0.68669552 -0.9691391  -0.98766279  0.36400637]\n",
      " [-1.          0.99996573 -1.         -0.99995303  0.98626447]\n",
      " [-1.          1.         -1.         -0.99999976  0.9997949 ]\n",
      " [-0.999488    0.99999225 -1.         -0.5615586   0.99982041]]\n"
     ]
    }
   ],
   "source": [
    "print(Y0_val)"
   ]
  },
  {
   "cell_type": "code",
   "execution_count": 5,
   "metadata": {},
   "outputs": [
    {
     "name": "stdout",
     "output_type": "stream",
     "text": [
      "[[-1.          1.         -1.         -0.99999863  0.99973184]\n",
      " [ 0.18151456  0.15007709 -0.35234094 -0.97813338 -0.91229677]\n",
      " [-1.          1.         -1.         -0.99995208  0.97980785]\n",
      " [-0.99980581  0.99848223 -0.99987525 -0.97681481 -0.04942547]]\n"
     ]
    }
   ],
   "source": [
    "print(Y1_val)"
   ]
  },
  {
   "cell_type": "code",
   "execution_count": 6,
   "metadata": {},
   "outputs": [],
   "source": [
    "X0 = tf.placeholder(tf.float32, [None, n_inputs])\n",
    "X1 = tf.placeholder(tf.float32, [None, n_inputs])"
   ]
  },
  {
   "cell_type": "code",
   "execution_count": 7,
   "metadata": {},
   "outputs": [],
   "source": [
    "basic_cell = tf.contrib.rnn.BasicRNNCell(num_units=n_neurons)\n",
    "output_seqs, states = tf.contrib.rnn.static_rnn(basic_cell, [X0, X1], dtype=tf.float32)\n",
    "\n",
    "Y0, Y1 = output_seqs"
   ]
  },
  {
   "cell_type": "code",
   "execution_count": 2,
   "metadata": {},
   "outputs": [],
   "source": [
    "n_steps = 28\n",
    "n_inputs = 28\n",
    "n_neurons = 150\n",
    "n_outputs = 10\n",
    "\n",
    "learning_rate = 0.001\n",
    "\n",
    "X = tf.placeholder(tf.float32, [None, n_steps, n_inputs])\n",
    "y = tf.placeholder(tf.int32, [None])\n",
    "\n",
    "basic_cell = tf.contrib.rnn.BasicRNNCell(num_units=n_neurons)\n",
    "outputs, states = tf.nn.dynamic_rnn(basic_cell, X, dtype=tf.float32)\n",
    "\n",
    "logits = tf.layers.dense(states, n_outputs)\n",
    "xentropy = tf.nn.sparse_softmax_cross_entropy_with_logits(labels=y, logits=logits)\n",
    "\n",
    "loss = tf.reduce_mean(xentropy)\n",
    "optimizer = tf.train.AdamOptimizer(learning_rate=learning_rate)\n",
    "training_op = optimizer.minimize(loss)\n",
    "correct = tf.nn.in_top_k(logits, y, 1)\n",
    "accuracy = tf.reduce_mean(tf.cast(correct, tf.float32))\n",
    "init = tf.global_variables_initializer()"
   ]
  },
  {
   "cell_type": "code",
   "execution_count": 3,
   "metadata": {},
   "outputs": [
    {
     "name": "stdout",
     "output_type": "stream",
     "text": [
      "WARNING:tensorflow:From <ipython-input-3-bea95e701948>:3: read_data_sets (from tensorflow.contrib.learn.python.learn.datasets.mnist) is deprecated and will be removed in a future version.\n",
      "Instructions for updating:\n",
      "Please use alternatives such as official/mnist/dataset.py from tensorflow/models.\n",
      "WARNING:tensorflow:From /Users/takahashishota/anaconda3/lib/python3.6/site-packages/tensorflow/contrib/learn/python/learn/datasets/mnist.py:260: maybe_download (from tensorflow.contrib.learn.python.learn.datasets.base) is deprecated and will be removed in a future version.\n",
      "Instructions for updating:\n",
      "Please write your own downloading logic.\n",
      "WARNING:tensorflow:From /Users/takahashishota/anaconda3/lib/python3.6/site-packages/tensorflow/contrib/learn/python/learn/datasets/base.py:252: _internal_retry.<locals>.wrap.<locals>.wrapped_fn (from tensorflow.contrib.learn.python.learn.datasets.base) is deprecated and will be removed in a future version.\n",
      "Instructions for updating:\n",
      "Please use urllib or similar directly.\n",
      "Successfully downloaded train-images-idx3-ubyte.gz 9912422 bytes.\n",
      "WARNING:tensorflow:From /Users/takahashishota/anaconda3/lib/python3.6/site-packages/tensorflow/contrib/learn/python/learn/datasets/mnist.py:262: extract_images (from tensorflow.contrib.learn.python.learn.datasets.mnist) is deprecated and will be removed in a future version.\n",
      "Instructions for updating:\n",
      "Please use tf.data to implement this functionality.\n",
      "Extracting /tmp/data/train-images-idx3-ubyte.gz\n",
      "Successfully downloaded train-labels-idx1-ubyte.gz 28881 bytes.\n",
      "WARNING:tensorflow:From /Users/takahashishota/anaconda3/lib/python3.6/site-packages/tensorflow/contrib/learn/python/learn/datasets/mnist.py:267: extract_labels (from tensorflow.contrib.learn.python.learn.datasets.mnist) is deprecated and will be removed in a future version.\n",
      "Instructions for updating:\n",
      "Please use tf.data to implement this functionality.\n",
      "Extracting /tmp/data/train-labels-idx1-ubyte.gz\n",
      "Successfully downloaded t10k-images-idx3-ubyte.gz 1648877 bytes.\n",
      "Extracting /tmp/data/t10k-images-idx3-ubyte.gz\n",
      "Successfully downloaded t10k-labels-idx1-ubyte.gz 4542 bytes.\n",
      "Extracting /tmp/data/t10k-labels-idx1-ubyte.gz\n",
      "WARNING:tensorflow:From /Users/takahashishota/anaconda3/lib/python3.6/site-packages/tensorflow/contrib/learn/python/learn/datasets/mnist.py:290: DataSet.__init__ (from tensorflow.contrib.learn.python.learn.datasets.mnist) is deprecated and will be removed in a future version.\n",
      "Instructions for updating:\n",
      "Please use alternatives such as official/mnist/dataset.py from tensorflow/models.\n"
     ]
    }
   ],
   "source": [
    "from tensorflow.examples.tutorials.mnist import input_data\n",
    "\n",
    "mnist = input_data.read_data_sets(\"/tmp/data/\")\n",
    "X_test = mnist.test.images.reshape((-1, n_steps, n_inputs))\n",
    "y_test = mnist.test.labels"
   ]
  },
  {
   "cell_type": "code",
   "execution_count": 4,
   "metadata": {},
   "outputs": [
    {
     "name": "stdout",
     "output_type": "stream",
     "text": [
      "0 Train accuracy: 0.946667 Test accuracy: 0.9269\n",
      "1 Train accuracy: 0.966667 Test accuracy: 0.9529\n",
      "2 Train accuracy: 0.96 Test accuracy: 0.9528\n",
      "3 Train accuracy: 0.966667 Test accuracy: 0.9604\n",
      "4 Train accuracy: 0.953333 Test accuracy: 0.9632\n",
      "5 Train accuracy: 0.993333 Test accuracy: 0.9694\n",
      "6 Train accuracy: 0.973333 Test accuracy: 0.9746\n",
      "7 Train accuracy: 0.993333 Test accuracy: 0.9718\n",
      "8 Train accuracy: 0.98 Test accuracy: 0.9683\n",
      "9 Train accuracy: 0.96 Test accuracy: 0.973\n",
      "10 Train accuracy: 0.973333 Test accuracy: 0.9734\n",
      "11 Train accuracy: 0.966667 Test accuracy: 0.9695\n",
      "12 Train accuracy: 0.98 Test accuracy: 0.9715\n",
      "13 Train accuracy: 0.993333 Test accuracy: 0.9746\n",
      "14 Train accuracy: 0.953333 Test accuracy: 0.9765\n",
      "15 Train accuracy: 0.98 Test accuracy: 0.9731\n",
      "16 Train accuracy: 0.98 Test accuracy: 0.9747\n",
      "17 Train accuracy: 0.98 Test accuracy: 0.9778\n",
      "18 Train accuracy: 0.986667 Test accuracy: 0.9736\n",
      "19 Train accuracy: 1.0 Test accuracy: 0.9751\n",
      "20 Train accuracy: 0.993333 Test accuracy: 0.9681\n",
      "21 Train accuracy: 0.98 Test accuracy: 0.9777\n",
      "22 Train accuracy: 0.98 Test accuracy: 0.9763\n",
      "23 Train accuracy: 0.993333 Test accuracy: 0.974\n",
      "24 Train accuracy: 0.993333 Test accuracy: 0.9772\n",
      "25 Train accuracy: 0.98 Test accuracy: 0.9784\n",
      "26 Train accuracy: 0.993333 Test accuracy: 0.9762\n",
      "27 Train accuracy: 0.993333 Test accuracy: 0.9796\n",
      "28 Train accuracy: 0.986667 Test accuracy: 0.9774\n",
      "29 Train accuracy: 0.98 Test accuracy: 0.9752\n",
      "30 Train accuracy: 0.993333 Test accuracy: 0.9728\n",
      "31 Train accuracy: 0.986667 Test accuracy: 0.9761\n",
      "32 Train accuracy: 1.0 Test accuracy: 0.9731\n",
      "33 Train accuracy: 0.993333 Test accuracy: 0.9773\n",
      "34 Train accuracy: 1.0 Test accuracy: 0.9775\n",
      "35 Train accuracy: 0.993333 Test accuracy: 0.9812\n",
      "36 Train accuracy: 0.993333 Test accuracy: 0.9774\n",
      "37 Train accuracy: 0.993333 Test accuracy: 0.9793\n",
      "38 Train accuracy: 1.0 Test accuracy: 0.9773\n",
      "39 Train accuracy: 0.98 Test accuracy: 0.976\n",
      "40 Train accuracy: 0.986667 Test accuracy: 0.9752\n",
      "41 Train accuracy: 0.993333 Test accuracy: 0.9794\n",
      "42 Train accuracy: 0.993333 Test accuracy: 0.977\n",
      "43 Train accuracy: 0.98 Test accuracy: 0.9751\n",
      "44 Train accuracy: 0.986667 Test accuracy: 0.9815\n",
      "45 Train accuracy: 1.0 Test accuracy: 0.9766\n",
      "46 Train accuracy: 0.986667 Test accuracy: 0.9716\n",
      "47 Train accuracy: 0.993333 Test accuracy: 0.9796\n",
      "48 Train accuracy: 1.0 Test accuracy: 0.9795\n",
      "49 Train accuracy: 1.0 Test accuracy: 0.9791\n",
      "50 Train accuracy: 0.986667 Test accuracy: 0.9787\n",
      "51 Train accuracy: 1.0 Test accuracy: 0.9789\n",
      "52 Train accuracy: 1.0 Test accuracy: 0.9699\n",
      "53 Train accuracy: 0.993333 Test accuracy: 0.9778\n",
      "54 Train accuracy: 1.0 Test accuracy: 0.9802\n",
      "55 Train accuracy: 0.993333 Test accuracy: 0.9807\n",
      "56 Train accuracy: 0.98 Test accuracy: 0.9808\n",
      "57 Train accuracy: 0.986667 Test accuracy: 0.9796\n",
      "58 Train accuracy: 0.986667 Test accuracy: 0.9582\n",
      "59 Train accuracy: 0.993333 Test accuracy: 0.9738\n",
      "60 Train accuracy: 1.0 Test accuracy: 0.977\n",
      "61 Train accuracy: 1.0 Test accuracy: 0.977\n",
      "62 Train accuracy: 0.993333 Test accuracy: 0.9769\n",
      "63 Train accuracy: 0.993333 Test accuracy: 0.9809\n",
      "64 Train accuracy: 0.993333 Test accuracy: 0.9777\n",
      "65 Train accuracy: 0.993333 Test accuracy: 0.9772\n",
      "66 Train accuracy: 0.986667 Test accuracy: 0.9629\n",
      "67 Train accuracy: 0.993333 Test accuracy: 0.9785\n",
      "68 Train accuracy: 0.993333 Test accuracy: 0.9783\n",
      "69 Train accuracy: 0.993333 Test accuracy: 0.9779\n",
      "70 Train accuracy: 0.993333 Test accuracy: 0.9791\n",
      "71 Train accuracy: 0.973333 Test accuracy: 0.9732\n",
      "72 Train accuracy: 1.0 Test accuracy: 0.9793\n",
      "73 Train accuracy: 0.993333 Test accuracy: 0.9802\n",
      "74 Train accuracy: 1.0 Test accuracy: 0.972\n",
      "75 Train accuracy: 1.0 Test accuracy: 0.9799\n",
      "76 Train accuracy: 0.986667 Test accuracy: 0.9738\n",
      "77 Train accuracy: 0.993333 Test accuracy: 0.9775\n",
      "78 Train accuracy: 0.986667 Test accuracy: 0.9798\n",
      "79 Train accuracy: 0.993333 Test accuracy: 0.9793\n",
      "80 Train accuracy: 0.96 Test accuracy: 0.9757\n",
      "81 Train accuracy: 0.993333 Test accuracy: 0.9778\n",
      "82 Train accuracy: 0.986667 Test accuracy: 0.9793\n",
      "83 Train accuracy: 0.986667 Test accuracy: 0.9759\n",
      "84 Train accuracy: 0.986667 Test accuracy: 0.9773\n",
      "85 Train accuracy: 1.0 Test accuracy: 0.9804\n",
      "86 Train accuracy: 0.986667 Test accuracy: 0.9783\n",
      "87 Train accuracy: 0.966667 Test accuracy: 0.9772\n",
      "88 Train accuracy: 0.973333 Test accuracy: 0.9711\n",
      "89 Train accuracy: 1.0 Test accuracy: 0.9819\n",
      "90 Train accuracy: 1.0 Test accuracy: 0.9779\n",
      "91 Train accuracy: 1.0 Test accuracy: 0.9762\n",
      "92 Train accuracy: 1.0 Test accuracy: 0.9772\n",
      "93 Train accuracy: 0.993333 Test accuracy: 0.973\n",
      "94 Train accuracy: 1.0 Test accuracy: 0.9753\n",
      "95 Train accuracy: 1.0 Test accuracy: 0.9775\n",
      "96 Train accuracy: 0.993333 Test accuracy: 0.9788\n",
      "97 Train accuracy: 1.0 Test accuracy: 0.9772\n",
      "98 Train accuracy: 1.0 Test accuracy: 0.976\n",
      "99 Train accuracy: 0.993333 Test accuracy: 0.9769\n"
     ]
    }
   ],
   "source": [
    "n_epochs = 100\n",
    "batch_size = 150\n",
    "\n",
    "with tf.Session() as sess:\n",
    "    init.run()\n",
    "    for epoch in range(n_epochs):\n",
    "        for iteration in range(mnist.train.num_examples // batch_size):\n",
    "            X_batch, y_batch = mnist.train.next_batch(batch_size)\n",
    "            X_batch = X_batch.reshape((-1, n_steps, n_inputs))\n",
    "            sess.run(training_op, feed_dict={X: X_batch, y: y_batch})\n",
    "        acc_train = accuracy.eval(feed_dict={X: X_batch, y: y_batch})\n",
    "        acc_test = accuracy.eval(feed_dict={X: X_test, y: y_test})\n",
    "        print(epoch, \"Train accuracy:\", acc_train, \"Test accuracy:\", acc_test)"
   ]
  },
  {
   "cell_type": "code",
   "execution_count": 6,
   "metadata": {},
   "outputs": [],
   "source": [
    "vocabulary_size = 50000\n",
    "embedding_size = 150\n",
    "\n",
    "# Look up embeddings for inputs.\n",
    "init_embeds = tf.random_uniform([vocabulary_size, embedding_size], -1.0, 1.0)\n",
    "embeddings = tf.Variable(init_embeds)"
   ]
  },
  {
   "cell_type": "code",
   "execution_count": 7,
   "metadata": {},
   "outputs": [],
   "source": [
    "train_inputs = tf.placeholder(tf.int32, shape=[None])\n",
    "embed = tf.nn.embedding_lookup(embeddings, train_inputs)"
   ]
  },
  {
   "cell_type": "code",
   "execution_count": null,
   "metadata": {},
   "outputs": [],
   "source": []
  }
 ],
 "metadata": {
  "kernelspec": {
   "display_name": "Python 3",
   "language": "python",
   "name": "python3"
  },
  "language_info": {
   "codemirror_mode": {
    "name": "ipython",
    "version": 3
   },
   "file_extension": ".py",
   "mimetype": "text/x-python",
   "name": "python",
   "nbconvert_exporter": "python",
   "pygments_lexer": "ipython3",
   "version": "3.6.3"
  }
 },
 "nbformat": 4,
 "nbformat_minor": 2
}
